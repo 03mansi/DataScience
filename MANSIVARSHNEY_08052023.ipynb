{
  "nbformat": 4,
  "nbformat_minor": 0,
  "metadata": {
    "colab": {
      "provenance": []
    },
    "kernelspec": {
      "name": "python3",
      "display_name": "Python 3"
    },
    "language_info": {
      "name": "python"
    }
  },
  "cells": [
    {
      "cell_type": "code",
      "execution_count": 1,
      "metadata": {
        "id": "o2fEKwIsLfRK"
      },
      "outputs": [],
      "source": [
        "# IMPORTING ALL THE LIBRARIES\n",
        "import pandas as pd\n",
        "import numpy as np\n",
        "import matplotlib.pyplot as plt\n",
        "%matplotlib inline\n",
        "import warnings\n",
        "import seaborn as sns\n",
        "warnings.filterwarnings(action = \"ignore\", category = FutureWarning)"
      ]
    },
    {
      "cell_type": "code",
      "source": [
        "data= pd.read_excel(\"assignment.xlsx\")\n",
        "data"
      ],
      "metadata": {
        "colab": {
          "base_uri": "https://localhost:8080/",
          "height": 423
        },
        "id": "jfDz3GPsMHe5",
        "outputId": "ab21cbfa-8b62-4030-cac3-8413bbc2e608"
      },
      "execution_count": 6,
      "outputs": [
        {
          "output_type": "execute_result",
          "data": {
            "text/plain": [
              "      Year  Month    Segment      Region           KPI Value Type    Value\n",
              "0     2020     12    Clients       India  Lv1_Visitors    Actuals  3665558\n",
              "1     2020     12    Clients       India  Lv2_Visitors    Actuals  2689569\n",
              "2     2020     12    Clients       India  Lv3_Visitors    Actuals  1300571\n",
              "3     2020     12    Clients       India  Lv4_Visitors    Actuals   717608\n",
              "4     2020     12    Clients       India  Lv3_Visitors    Actuals   706677\n",
              "...    ...    ...        ...         ...           ...        ...      ...\n",
              "1567  2022      1  Customers    Dehradun  Lv5_Visitors    Actuals     1693\n",
              "1568  2022      1  Customers  Aurangabad  Lv4_Visitors    Actuals     1428\n",
              "1569  2022      1  Customers      Ujjain  Lv5_Visitors    Actuals     1311\n",
              "1570  2022      1  Customers   Faridabad  Lv5_Visitors    Actuals     1071\n",
              "1571  2022      1  Customers  Aurangabad  Lv5_Visitors    Actuals      527\n",
              "\n",
              "[1572 rows x 7 columns]"
            ],
            "text/html": [
              "\n",
              "  <div id=\"df-e3b225ed-3dd5-45a9-9c47-46bdbf665ca7\">\n",
              "    <div class=\"colab-df-container\">\n",
              "      <div>\n",
              "<style scoped>\n",
              "    .dataframe tbody tr th:only-of-type {\n",
              "        vertical-align: middle;\n",
              "    }\n",
              "\n",
              "    .dataframe tbody tr th {\n",
              "        vertical-align: top;\n",
              "    }\n",
              "\n",
              "    .dataframe thead th {\n",
              "        text-align: right;\n",
              "    }\n",
              "</style>\n",
              "<table border=\"1\" class=\"dataframe\">\n",
              "  <thead>\n",
              "    <tr style=\"text-align: right;\">\n",
              "      <th></th>\n",
              "      <th>Year</th>\n",
              "      <th>Month</th>\n",
              "      <th>Segment</th>\n",
              "      <th>Region</th>\n",
              "      <th>KPI</th>\n",
              "      <th>Value Type</th>\n",
              "      <th>Value</th>\n",
              "    </tr>\n",
              "  </thead>\n",
              "  <tbody>\n",
              "    <tr>\n",
              "      <th>0</th>\n",
              "      <td>2020</td>\n",
              "      <td>12</td>\n",
              "      <td>Clients</td>\n",
              "      <td>India</td>\n",
              "      <td>Lv1_Visitors</td>\n",
              "      <td>Actuals</td>\n",
              "      <td>3665558</td>\n",
              "    </tr>\n",
              "    <tr>\n",
              "      <th>1</th>\n",
              "      <td>2020</td>\n",
              "      <td>12</td>\n",
              "      <td>Clients</td>\n",
              "      <td>India</td>\n",
              "      <td>Lv2_Visitors</td>\n",
              "      <td>Actuals</td>\n",
              "      <td>2689569</td>\n",
              "    </tr>\n",
              "    <tr>\n",
              "      <th>2</th>\n",
              "      <td>2020</td>\n",
              "      <td>12</td>\n",
              "      <td>Clients</td>\n",
              "      <td>India</td>\n",
              "      <td>Lv3_Visitors</td>\n",
              "      <td>Actuals</td>\n",
              "      <td>1300571</td>\n",
              "    </tr>\n",
              "    <tr>\n",
              "      <th>3</th>\n",
              "      <td>2020</td>\n",
              "      <td>12</td>\n",
              "      <td>Clients</td>\n",
              "      <td>India</td>\n",
              "      <td>Lv4_Visitors</td>\n",
              "      <td>Actuals</td>\n",
              "      <td>717608</td>\n",
              "    </tr>\n",
              "    <tr>\n",
              "      <th>4</th>\n",
              "      <td>2020</td>\n",
              "      <td>12</td>\n",
              "      <td>Clients</td>\n",
              "      <td>India</td>\n",
              "      <td>Lv3_Visitors</td>\n",
              "      <td>Actuals</td>\n",
              "      <td>706677</td>\n",
              "    </tr>\n",
              "    <tr>\n",
              "      <th>...</th>\n",
              "      <td>...</td>\n",
              "      <td>...</td>\n",
              "      <td>...</td>\n",
              "      <td>...</td>\n",
              "      <td>...</td>\n",
              "      <td>...</td>\n",
              "      <td>...</td>\n",
              "    </tr>\n",
              "    <tr>\n",
              "      <th>1567</th>\n",
              "      <td>2022</td>\n",
              "      <td>1</td>\n",
              "      <td>Customers</td>\n",
              "      <td>Dehradun</td>\n",
              "      <td>Lv5_Visitors</td>\n",
              "      <td>Actuals</td>\n",
              "      <td>1693</td>\n",
              "    </tr>\n",
              "    <tr>\n",
              "      <th>1568</th>\n",
              "      <td>2022</td>\n",
              "      <td>1</td>\n",
              "      <td>Customers</td>\n",
              "      <td>Aurangabad</td>\n",
              "      <td>Lv4_Visitors</td>\n",
              "      <td>Actuals</td>\n",
              "      <td>1428</td>\n",
              "    </tr>\n",
              "    <tr>\n",
              "      <th>1569</th>\n",
              "      <td>2022</td>\n",
              "      <td>1</td>\n",
              "      <td>Customers</td>\n",
              "      <td>Ujjain</td>\n",
              "      <td>Lv5_Visitors</td>\n",
              "      <td>Actuals</td>\n",
              "      <td>1311</td>\n",
              "    </tr>\n",
              "    <tr>\n",
              "      <th>1570</th>\n",
              "      <td>2022</td>\n",
              "      <td>1</td>\n",
              "      <td>Customers</td>\n",
              "      <td>Faridabad</td>\n",
              "      <td>Lv5_Visitors</td>\n",
              "      <td>Actuals</td>\n",
              "      <td>1071</td>\n",
              "    </tr>\n",
              "    <tr>\n",
              "      <th>1571</th>\n",
              "      <td>2022</td>\n",
              "      <td>1</td>\n",
              "      <td>Customers</td>\n",
              "      <td>Aurangabad</td>\n",
              "      <td>Lv5_Visitors</td>\n",
              "      <td>Actuals</td>\n",
              "      <td>527</td>\n",
              "    </tr>\n",
              "  </tbody>\n",
              "</table>\n",
              "<p>1572 rows × 7 columns</p>\n",
              "</div>\n",
              "      <button class=\"colab-df-convert\" onclick=\"convertToInteractive('df-e3b225ed-3dd5-45a9-9c47-46bdbf665ca7')\"\n",
              "              title=\"Convert this dataframe to an interactive table.\"\n",
              "              style=\"display:none;\">\n",
              "        \n",
              "  <svg xmlns=\"http://www.w3.org/2000/svg\" height=\"24px\"viewBox=\"0 0 24 24\"\n",
              "       width=\"24px\">\n",
              "    <path d=\"M0 0h24v24H0V0z\" fill=\"none\"/>\n",
              "    <path d=\"M18.56 5.44l.94 2.06.94-2.06 2.06-.94-2.06-.94-.94-2.06-.94 2.06-2.06.94zm-11 1L8.5 8.5l.94-2.06 2.06-.94-2.06-.94L8.5 2.5l-.94 2.06-2.06.94zm10 10l.94 2.06.94-2.06 2.06-.94-2.06-.94-.94-2.06-.94 2.06-2.06.94z\"/><path d=\"M17.41 7.96l-1.37-1.37c-.4-.4-.92-.59-1.43-.59-.52 0-1.04.2-1.43.59L10.3 9.45l-7.72 7.72c-.78.78-.78 2.05 0 2.83L4 21.41c.39.39.9.59 1.41.59.51 0 1.02-.2 1.41-.59l7.78-7.78 2.81-2.81c.8-.78.8-2.07 0-2.86zM5.41 20L4 18.59l7.72-7.72 1.47 1.35L5.41 20z\"/>\n",
              "  </svg>\n",
              "      </button>\n",
              "      \n",
              "  <style>\n",
              "    .colab-df-container {\n",
              "      display:flex;\n",
              "      flex-wrap:wrap;\n",
              "      gap: 12px;\n",
              "    }\n",
              "\n",
              "    .colab-df-convert {\n",
              "      background-color: #E8F0FE;\n",
              "      border: none;\n",
              "      border-radius: 50%;\n",
              "      cursor: pointer;\n",
              "      display: none;\n",
              "      fill: #1967D2;\n",
              "      height: 32px;\n",
              "      padding: 0 0 0 0;\n",
              "      width: 32px;\n",
              "    }\n",
              "\n",
              "    .colab-df-convert:hover {\n",
              "      background-color: #E2EBFA;\n",
              "      box-shadow: 0px 1px 2px rgba(60, 64, 67, 0.3), 0px 1px 3px 1px rgba(60, 64, 67, 0.15);\n",
              "      fill: #174EA6;\n",
              "    }\n",
              "\n",
              "    [theme=dark] .colab-df-convert {\n",
              "      background-color: #3B4455;\n",
              "      fill: #D2E3FC;\n",
              "    }\n",
              "\n",
              "    [theme=dark] .colab-df-convert:hover {\n",
              "      background-color: #434B5C;\n",
              "      box-shadow: 0px 1px 3px 1px rgba(0, 0, 0, 0.15);\n",
              "      filter: drop-shadow(0px 1px 2px rgba(0, 0, 0, 0.3));\n",
              "      fill: #FFFFFF;\n",
              "    }\n",
              "  </style>\n",
              "\n",
              "      <script>\n",
              "        const buttonEl =\n",
              "          document.querySelector('#df-e3b225ed-3dd5-45a9-9c47-46bdbf665ca7 button.colab-df-convert');\n",
              "        buttonEl.style.display =\n",
              "          google.colab.kernel.accessAllowed ? 'block' : 'none';\n",
              "\n",
              "        async function convertToInteractive(key) {\n",
              "          const element = document.querySelector('#df-e3b225ed-3dd5-45a9-9c47-46bdbf665ca7');\n",
              "          const dataTable =\n",
              "            await google.colab.kernel.invokeFunction('convertToInteractive',\n",
              "                                                     [key], {});\n",
              "          if (!dataTable) return;\n",
              "\n",
              "          const docLinkHtml = 'Like what you see? Visit the ' +\n",
              "            '<a target=\"_blank\" href=https://colab.research.google.com/notebooks/data_table.ipynb>data table notebook</a>'\n",
              "            + ' to learn more about interactive tables.';\n",
              "          element.innerHTML = '';\n",
              "          dataTable['output_type'] = 'display_data';\n",
              "          await google.colab.output.renderOutput(dataTable, element);\n",
              "          const docLink = document.createElement('div');\n",
              "          docLink.innerHTML = docLinkHtml;\n",
              "          element.appendChild(docLink);\n",
              "        }\n",
              "      </script>\n",
              "    </div>\n",
              "  </div>\n",
              "  "
            ]
          },
          "metadata": {},
          "execution_count": 6
        }
      ]
    },
    {
      "cell_type": "code",
      "source": [
        "data.shape"
      ],
      "metadata": {
        "colab": {
          "base_uri": "https://localhost:8080/"
        },
        "id": "fMh2oroYNeU9",
        "outputId": "d8759a57-ea5f-4acb-8ff7-1565ddc0f8da"
      },
      "execution_count": 7,
      "outputs": [
        {
          "output_type": "execute_result",
          "data": {
            "text/plain": [
              "(1572, 7)"
            ]
          },
          "metadata": {},
          "execution_count": 7
        }
      ]
    },
    {
      "cell_type": "code",
      "source": [
        "data.info()"
      ],
      "metadata": {
        "colab": {
          "base_uri": "https://localhost:8080/"
        },
        "id": "wTcnUNmwN9Mg",
        "outputId": "ac9e4df0-edb4-4814-dddc-fd23e722709b"
      },
      "execution_count": 8,
      "outputs": [
        {
          "output_type": "stream",
          "name": "stdout",
          "text": [
            "<class 'pandas.core.frame.DataFrame'>\n",
            "RangeIndex: 1572 entries, 0 to 1571\n",
            "Data columns (total 7 columns):\n",
            " #   Column      Non-Null Count  Dtype \n",
            "---  ------      --------------  ----- \n",
            " 0   Year        1572 non-null   int64 \n",
            " 1   Month       1572 non-null   int64 \n",
            " 2   Segment     1572 non-null   object\n",
            " 3   Region      1572 non-null   object\n",
            " 4   KPI         1572 non-null   object\n",
            " 5   Value Type  1572 non-null   object\n",
            " 6   Value       1572 non-null   int64 \n",
            "dtypes: int64(3), object(4)\n",
            "memory usage: 86.1+ KB\n"
          ]
        }
      ]
    },
    {
      "cell_type": "code",
      "source": [
        "data.isna().sum()"
      ],
      "metadata": {
        "colab": {
          "base_uri": "https://localhost:8080/"
        },
        "id": "idriIfAuN--c",
        "outputId": "3a1d0cd8-0033-482e-bd7f-feacdbab436e"
      },
      "execution_count": 9,
      "outputs": [
        {
          "output_type": "execute_result",
          "data": {
            "text/plain": [
              "Year          0\n",
              "Month         0\n",
              "Segment       0\n",
              "Region        0\n",
              "KPI           0\n",
              "Value Type    0\n",
              "Value         0\n",
              "dtype: int64"
            ]
          },
          "metadata": {},
          "execution_count": 9
        }
      ]
    },
    {
      "cell_type": "code",
      "source": [
        "print(\"The KPI values are-\", data['KPI'].unique())\n",
        "print(\"The year are-\", data[\"Year\"].unique())\n"
      ],
      "metadata": {
        "colab": {
          "base_uri": "https://localhost:8080/"
        },
        "id": "7tuQ4rhKOC85",
        "outputId": "3d7678ac-b654-4ece-92f5-fbb82a95d27b"
      },
      "execution_count": 10,
      "outputs": [
        {
          "output_type": "stream",
          "name": "stdout",
          "text": [
            "The KPI values are- ['Lv1_Visitors' 'Lv2_Visitors' 'Lv3_Visitors' 'Lv4_Visitors'\n",
            " 'Lv5_Visitors']\n",
            "The year are- [2020 2021 2022]\n"
          ]
        }
      ]
    },
    {
      "cell_type": "code",
      "source": [
        "print(data['Value Type'].unique())"
      ],
      "metadata": {
        "colab": {
          "base_uri": "https://localhost:8080/"
        },
        "id": "L9hdaEZNOFYK",
        "outputId": "ba0495c6-d603-4636-fcf7-ca6746bbfc20"
      },
      "execution_count": 11,
      "outputs": [
        {
          "output_type": "stream",
          "name": "stdout",
          "text": [
            "['Actuals']\n"
          ]
        }
      ]
    },
    {
      "cell_type": "code",
      "source": [
        "data['KPI'].value_counts()\n"
      ],
      "metadata": {
        "colab": {
          "base_uri": "https://localhost:8080/"
        },
        "id": "gueUPquGOQPO",
        "outputId": "9237773e-e18e-4f68-8b31-fd3a690c501c"
      },
      "execution_count": 12,
      "outputs": [
        {
          "output_type": "execute_result",
          "data": {
            "text/plain": [
              "Lv3_Visitors    324\n",
              "Lv4_Visitors    324\n",
              "Lv5_Visitors    324\n",
              "Lv1_Visitors    300\n",
              "Lv2_Visitors    300\n",
              "Name: KPI, dtype: int64"
            ]
          },
          "metadata": {},
          "execution_count": 12
        }
      ]
    },
    {
      "cell_type": "code",
      "source": [
        "print(data[\"Segment\"].unique())"
      ],
      "metadata": {
        "colab": {
          "base_uri": "https://localhost:8080/"
        },
        "id": "CXa-ZSprOSLO",
        "outputId": "88ea0de4-88f2-440b-c077-5f1294f3e7c3"
      },
      "execution_count": 13,
      "outputs": [
        {
          "output_type": "stream",
          "name": "stdout",
          "text": [
            "['Clients' 'Customers']\n"
          ]
        }
      ]
    },
    {
      "cell_type": "code",
      "source": [
        "data['Segment'].value_counts()"
      ],
      "metadata": {
        "colab": {
          "base_uri": "https://localhost:8080/"
        },
        "id": "8rwb8VCdOUBe",
        "outputId": "98db619b-fb4e-40f7-8497-a98cfbbd2faa"
      },
      "execution_count": 14,
      "outputs": [
        {
          "output_type": "execute_result",
          "data": {
            "text/plain": [
              "Customers    1080\n",
              "Clients       492\n",
              "Name: Segment, dtype: int64"
            ]
          },
          "metadata": {},
          "execution_count": 14
        }
      ]
    },
    {
      "cell_type": "markdown",
      "source": [
        "## This data set seems to be that of which keeps track of the visiting customer in year 2020.2021.2022  . Here there are 2 type of segment one is clients and other is customer. The customer count are much more than that of clients.\n",
        "## Another variable is KPI which has Lv_Visitor which is visitor in level 1,2,3,4,5.\n",
        "## In this data set , the clients and customer data is given for particular year with the country/city name along with their visitor level."
      ],
      "metadata": {
        "id": "0HpjrKm-Ok7u"
      }
    },
    {
      "cell_type": "code",
      "source": [
        "# pivot the data based on the 'KPI' column\n",
        "pivoted_data = data.pivot(columns='KPI', values='Value')\n",
        "\n",
        "# print the pivoted data\n",
        "print(pivoted_data)\n"
      ],
      "metadata": {
        "colab": {
          "base_uri": "https://localhost:8080/"
        },
        "id": "gJ-vFOjzOpNi",
        "outputId": "18bbca2a-4d89-4f98-b6bf-c9066a6078a5"
      },
      "execution_count": 15,
      "outputs": [
        {
          "output_type": "stream",
          "name": "stdout",
          "text": [
            "KPI   Lv1_Visitors  Lv2_Visitors  Lv3_Visitors  Lv4_Visitors  Lv5_Visitors\n",
            "0        3665558.0           NaN           NaN           NaN           NaN\n",
            "1              NaN     2689569.0           NaN           NaN           NaN\n",
            "2              NaN           NaN     1300571.0           NaN           NaN\n",
            "3              NaN           NaN           NaN      717608.0           NaN\n",
            "4              NaN           NaN      706677.0           NaN           NaN\n",
            "...            ...           ...           ...           ...           ...\n",
            "1567           NaN           NaN           NaN           NaN        1693.0\n",
            "1568           NaN           NaN           NaN        1428.0           NaN\n",
            "1569           NaN           NaN           NaN           NaN        1311.0\n",
            "1570           NaN           NaN           NaN           NaN        1071.0\n",
            "1571           NaN           NaN           NaN           NaN         527.0\n",
            "\n",
            "[1572 rows x 5 columns]\n"
          ]
        }
      ]
    },
    {
      "cell_type": "code",
      "source": [
        "# plot the pivoted data\n",
        "sns.barplot(data=pivoted_data)\n",
        "plt.xlabel('Month')\n",
        "plt.ylabel('Number of Visitors')\n",
        "plt.title('Total number of visitors segmented by each level, every month in each year')\n",
        "plt.show()"
      ],
      "metadata": {
        "colab": {
          "base_uri": "https://localhost:8080/",
          "height": 472
        },
        "id": "W3GmTF4aOs0T",
        "outputId": "b438ea63-78d7-4531-9432-0aff4f7acdc8"
      },
      "execution_count": 16,
      "outputs": [
        {
          "output_type": "display_data",
          "data": {
            "text/plain": [
              "<Figure size 640x480 with 1 Axes>"
            ],
            "image/png": "[encoded data removed]"
          },
          "metadata": {}
        }
      ]
    },
    {
      "cell_type": "markdown",
      "source": [
        "## Here we can see that the number of visitor decreases as we go up to the level 5.\n",
        "## From the barplot it can be observed that the visitor decreses as the level increases."
      ],
      "metadata": {
        "id": "ovUDlnSVOyb5"
      }
    },
    {
      "cell_type": "code",
      "source": [
        "# pivoted data based on the 'Year', 'Month', and 'KPI' columns\n",
        "pivoted_data = pd.pivot_table(data, index=['Year', 'Month'], columns='KPI', values='Value', aggfunc='sum')\n",
        "\n",
        "# plot the pivoted data\n",
        "\n",
        "pivoted_data.plot(kind='line')\n",
        "plt.xlabel('Year and month')\n",
        "plt.ylabel('Count of Visitors')\n",
        "plt.title('Total number of visitors segmented by each level, every month in each year')\n",
        "plt.legend(title='Level of visitor', loc='upper right')\n",
        "plt.show()\n"
      ],
      "metadata": {
        "colab": {
          "base_uri": "https://localhost:8080/",
          "height": 487
        },
        "id": "5q26ZeWFOzHe",
        "outputId": "7afec77b-200a-4f31-f2c5-b61dee639c67"
      },
      "execution_count": 18,
      "outputs": [
        {
          "output_type": "display_data",
          "data": {
            "text/plain": [
              "<Figure size 640x480 with 1 Axes>"
            ],
            "image/png": "[encoded data removed]"
          },
          "metadata": {}
        }
      ]
    },
    {
      "cell_type": "code",
      "source": [
        "# calculate the percentage difference between years for each region\n",
        "diff_perc = pivoted_data.pct_change(axis=0) * 100\n",
        "\n",
        "print(diff_perc)"
      ],
      "metadata": {
        "colab": {
          "base_uri": "https://localhost:8080/"
        },
        "id": "2E2tnWJhO5NN",
        "outputId": "698e9f39-9816-4de6-d8f3-84e15f5f5a64"
      },
      "execution_count": 19,
      "outputs": [
        {
          "output_type": "stream",
          "name": "stdout",
          "text": [
            "KPI         Lv1_Visitors  Lv2_Visitors  Lv3_Visitors  Lv4_Visitors  \\\n",
            "Year Month                                                           \n",
            "2020 1               NaN           NaN           NaN           NaN   \n",
            "     2         -8.066744     -9.211430     -8.566721     -8.636612   \n",
            "     3         15.022641     14.874948     15.676383     17.186385   \n",
            "     4         33.279076     35.586251     33.796819     44.080816   \n",
            "     5          2.253317      5.322152      4.061402   1708.735627   \n",
            "     6        -12.899481    -14.235955    -19.524616    -95.978032   \n",
            "     7        -11.008287    -11.855078    -14.686738    -18.266210   \n",
            "     8        -12.239103    -13.214256    -15.460946    -16.886880   \n",
            "     9          8.023160      8.330736      9.754224     13.714230   \n",
            "     10        27.438380     28.167508     32.465039     29.600698   \n",
            "     11       -14.841601    -14.082705    -21.826872    -18.107635   \n",
            "     12        -1.507132      2.535007     -6.878353     -6.841078   \n",
            "2021 1          3.447121      3.695020      4.673228      6.074471   \n",
            "     2        -13.508841    -16.760669    -14.127316    -14.564508   \n",
            "     3          2.691822     -1.729897      3.185510      5.095931   \n",
            "     4         -4.669463     -6.413851     -8.861739    -10.853619   \n",
            "     5          4.253912      4.239934      4.801624      3.736961   \n",
            "     6        -13.486139    -14.553836    -13.062391    -16.049230   \n",
            "     7          2.020813      4.320476      1.398106      8.983565   \n",
            "     8          8.684307      5.148520      3.137992      2.375716   \n",
            "     9         -6.215897     -6.542106     -5.103642     -8.985336   \n",
            "     10         5.123290      1.877305      0.956934     -1.171051   \n",
            "     11        10.531221      8.892718      4.324942     13.290873   \n",
            "     12        -1.681490     -0.870441     -3.017157     -6.654765   \n",
            "2022 1         38.680708     37.127468     40.852307     43.921394   \n",
            "     2         -9.972471    -10.902078    -11.443971    -10.490175   \n",
            "     3          5.425781      4.613379      1.132041    -10.860826   \n",
            "     4         -8.797061    -10.219257     -9.888313     -1.152993   \n",
            "     5          5.339780      9.820970     -2.462732     -6.566564   \n",
            "     6         -0.128354      0.342119      3.379656      1.008080   \n",
            "     7          3.287337      3.750325      1.155794      9.555945   \n",
            "     8         -3.798626     -4.889371      0.107918     -8.186972   \n",
            "     9         -2.390789     -2.598804      5.435202     -1.259474   \n",
            "     10         3.720820      3.473446     -1.540845      9.732899   \n",
            "     11         3.304101      6.658489      6.347830     12.263728   \n",
            "     12        -9.063774     -8.877531     -1.435372    -11.957583   \n",
            "\n",
            "KPI         Lv5_Visitors  \n",
            "Year Month                \n",
            "2020 1               NaN  \n",
            "     2        -10.096624  \n",
            "     3         19.296716  \n",
            "     4         43.040109  \n",
            "     5         -1.536368  \n",
            "     6        -20.452643  \n",
            "     7        -18.740307  \n",
            "     8        -19.161743  \n",
            "     9         16.408209  \n",
            "     10        28.535049  \n",
            "     11       -11.402769  \n",
            "     12        -8.721650  \n",
            "2021 1          4.495960  \n",
            "     2        -14.500966  \n",
            "     3          4.461605  \n",
            "     4        -15.052422  \n",
            "     5          4.601902  \n",
            "     6        -21.971241  \n",
            "     7         11.218107  \n",
            "     8          1.114415  \n",
            "     9         -2.935805  \n",
            "     10         5.638611  \n",
            "     11        14.713230  \n",
            "     12       -11.022524  \n",
            "2022 1         56.070349  \n",
            "     2         -9.269412  \n",
            "     3        -11.786599  \n",
            "     4          1.148147  \n",
            "     5         -7.679632  \n",
            "     6         -1.532563  \n",
            "     7          6.981732  \n",
            "     8         -5.723657  \n",
            "     9         -4.073317  \n",
            "     10        14.520309  \n",
            "     11        14.232084  \n",
            "     12       -74.807530  \n"
          ]
        }
      ]
    },
    {
      "cell_type": "code",
      "source": [
        "#checking outliers with box plot\n",
        "sns.set(rc={'figure.figsize':(8,5)})\n",
        "sns.boxplot(data = pivoted_data)"
      ],
      "metadata": {
        "colab": {
          "base_uri": "https://localhost:8080/",
          "height": 508
        },
        "id": "-3_tdhtvO7tQ",
        "outputId": "15540dea-bb86-4b1f-e213-768190345085"
      },
      "execution_count": 20,
      "outputs": [
        {
          "output_type": "execute_result",
          "data": {
            "text/plain": [
              "<Axes: xlabel='KPI'>"
            ]
          },
          "metadata": {},
          "execution_count": 20
        },
        {
          "output_type": "display_data",
          "data": {
            "text/plain": [
              "<Figure size 800x500 with 1 Axes>"
            ],
            "image/png": "[encoded data removed]"
          },
          "metadata": {}
        }
      ]
    },
    {
      "cell_type": "code",
      "source": [
        "pivoted_data.head()"
      ],
      "metadata": {
        "colab": {
          "base_uri": "https://localhost:8080/",
          "height": 237
        },
        "id": "absWO65GO96R",
        "outputId": "bc6c12f9-b1e9-4704-bfb7-f55956939336"
      },
      "execution_count": 21,
      "outputs": [
        {
          "output_type": "execute_result",
          "data": {
            "text/plain": [
              "KPI         Lv1_Visitors  Lv2_Visitors  Lv3_Visitors  Lv4_Visitors  \\\n",
              "Year Month                                                           \n",
              "2020 1           3928041       2765271       2965989       1392282   \n",
              "     2           3611176       2510550       2711901       1272036   \n",
              "     3           4153670       2883993       3137029       1490653   \n",
              "     4           5535973       3910298       4197245       2147745   \n",
              "     5           5660716       4118410       4367712      38847029   \n",
              "\n",
              "KPI         Lv5_Visitors  \n",
              "Year Month                \n",
              "2020 1            432501  \n",
              "     2            388833  \n",
              "     3            463865  \n",
              "     4            663513  \n",
              "     5            653319  "
            ],
            "text/html": [
              "\n",
              "  <div id=\"df-448c1719-2988-4d72-a15a-00efd1ba9b43\">\n",
              "    <div class=\"colab-df-container\">\n",
              "      <div>\n",
              "<style scoped>\n",
              "    .dataframe tbody tr th:only-of-type {\n",
              "        vertical-align: middle;\n",
              "    }\n",
              "\n",
              "    .dataframe tbody tr th {\n",
              "        vertical-align: top;\n",
              "    }\n",
              "\n",
              "    .dataframe thead th {\n",
              "        text-align: right;\n",
              "    }\n",
              "</style>\n",
              "<table border=\"1\" class=\"dataframe\">\n",
              "  <thead>\n",
              "    <tr style=\"text-align: right;\">\n",
              "      <th></th>\n",
              "      <th>KPI</th>\n",
              "      <th>Lv1_Visitors</th>\n",
              "      <th>Lv2_Visitors</th>\n",
              "      <th>Lv3_Visitors</th>\n",
              "      <th>Lv4_Visitors</th>\n",
              "      <th>Lv5_Visitors</th>\n",
              "    </tr>\n",
              "    <tr>\n",
              "      <th>Year</th>\n",
              "      <th>Month</th>\n",
              "      <th></th>\n",
              "      <th></th>\n",
              "      <th></th>\n",
              "      <th></th>\n",
              "      <th></th>\n",
              "    </tr>\n",
              "  </thead>\n",
              "  <tbody>\n",
              "    <tr>\n",
              "      <th rowspan=\"5\" valign=\"top\">2020</th>\n",
              "      <th>1</th>\n",
              "      <td>3928041</td>\n",
              "      <td>2765271</td>\n",
              "      <td>2965989</td>\n",
              "      <td>1392282</td>\n",
              "      <td>432501</td>\n",
              "    </tr>\n",
              "    <tr>\n",
              "      <th>2</th>\n",
              "      <td>3611176</td>\n",
              "      <td>2510550</td>\n",
              "      <td>2711901</td>\n",
              "      <td>1272036</td>\n",
              "      <td>388833</td>\n",
              "    </tr>\n",
              "    <tr>\n",
              "      <th>3</th>\n",
              "      <td>4153670</td>\n",
              "      <td>2883993</td>\n",
              "      <td>3137029</td>\n",
              "      <td>1490653</td>\n",
              "      <td>463865</td>\n",
              "    </tr>\n",
              "    <tr>\n",
              "      <th>4</th>\n",
              "      <td>5535973</td>\n",
              "      <td>3910298</td>\n",
              "      <td>4197245</td>\n",
              "      <td>2147745</td>\n",
              "      <td>663513</td>\n",
              "    </tr>\n",
              "    <tr>\n",
              "      <th>5</th>\n",
              "      <td>5660716</td>\n",
              "      <td>4118410</td>\n",
              "      <td>4367712</td>\n",
              "      <td>38847029</td>\n",
              "      <td>653319</td>\n",
              "    </tr>\n",
              "  </tbody>\n",
              "</table>\n",
              "</div>\n",
              "      <button class=\"colab-df-convert\" onclick=\"convertToInteractive('df-448c1719-2988-4d72-a15a-00efd1ba9b43')\"\n",
              "              title=\"Convert this dataframe to an interactive table.\"\n",
              "              style=\"display:none;\">\n",
              "        \n",
              "  <svg xmlns=\"http://www.w3.org/2000/svg\" height=\"24px\"viewBox=\"0 0 24 24\"\n",
              "       width=\"24px\">\n",
              "    <path d=\"M0 0h24v24H0V0z\" fill=\"none\"/>\n",
              "    <path d=\"M18.56 5.44l.94 2.06.94-2.06 2.06-.94-2.06-.94-.94-2.06-.94 2.06-2.06.94zm-11 1L8.5 8.5l.94-2.06 2.06-.94-2.06-.94L8.5 2.5l-.94 2.06-2.06.94zm10 10l.94 2.06.94-2.06 2.06-.94-2.06-.94-.94-2.06-.94 2.06-2.06.94z\"/><path d=\"M17.41 7.96l-1.37-1.37c-.4-.4-.92-.59-1.43-.59-.52 0-1.04.2-1.43.59L10.3 9.45l-7.72 7.72c-.78.78-.78 2.05 0 2.83L4 21.41c.39.39.9.59 1.41.59.51 0 1.02-.2 1.41-.59l7.78-7.78 2.81-2.81c.8-.78.8-2.07 0-2.86zM5.41 20L4 18.59l7.72-7.72 1.47 1.35L5.41 20z\"/>\n",
              "  </svg>\n",
              "      </button>\n",
              "      \n",
              "  <style>\n",
              "    .colab-df-container {\n",
              "      display:flex;\n",
              "      flex-wrap:wrap;\n",
              "      gap: 12px;\n",
              "    }\n",
              "\n",
              "    .colab-df-convert {\n",
              "      background-color: #E8F0FE;\n",
              "      border: none;\n",
              "      border-radius: 50%;\n",
              "      cursor: pointer;\n",
              "      display: none;\n",
              "      fill: #1967D2;\n",
              "      height: 32px;\n",
              "      padding: 0 0 0 0;\n",
              "      width: 32px;\n",
              "    }\n",
              "\n",
              "    .colab-df-convert:hover {\n",
              "      background-color: #E2EBFA;\n",
              "      box-shadow: 0px 1px 2px rgba(60, 64, 67, 0.3), 0px 1px 3px 1px rgba(60, 64, 67, 0.15);\n",
              "      fill: #174EA6;\n",
              "    }\n",
              "\n",
              "    [theme=dark] .colab-df-convert {\n",
              "      background-color: #3B4455;\n",
              "      fill: #D2E3FC;\n",
              "    }\n",
              "\n",
              "    [theme=dark] .colab-df-convert:hover {\n",
              "      background-color: #434B5C;\n",
              "      box-shadow: 0px 1px 3px 1px rgba(0, 0, 0, 0.15);\n",
              "      filter: drop-shadow(0px 1px 2px rgba(0, 0, 0, 0.3));\n",
              "      fill: #FFFFFF;\n",
              "    }\n",
              "  </style>\n",
              "\n",
              "      <script>\n",
              "        const buttonEl =\n",
              "          document.querySelector('#df-448c1719-2988-4d72-a15a-00efd1ba9b43 button.colab-df-convert');\n",
              "        buttonEl.style.display =\n",
              "          google.colab.kernel.accessAllowed ? 'block' : 'none';\n",
              "\n",
              "        async function convertToInteractive(key) {\n",
              "          const element = document.querySelector('#df-448c1719-2988-4d72-a15a-00efd1ba9b43');\n",
              "          const dataTable =\n",
              "            await google.colab.kernel.invokeFunction('convertToInteractive',\n",
              "                                                     [key], {});\n",
              "          if (!dataTable) return;\n",
              "\n",
              "          const docLinkHtml = 'Like what you see? Visit the ' +\n",
              "            '<a target=\"_blank\" href=https://colab.research.google.com/notebooks/data_table.ipynb>data table notebook</a>'\n",
              "            + ' to learn more about interactive tables.';\n",
              "          element.innerHTML = '';\n",
              "          dataTable['output_type'] = 'display_data';\n",
              "          await google.colab.output.renderOutput(dataTable, element);\n",
              "          const docLink = document.createElement('div');\n",
              "          docLink.innerHTML = docLinkHtml;\n",
              "          element.appendChild(docLink);\n",
              "        }\n",
              "      </script>\n",
              "    </div>\n",
              "  </div>\n",
              "  "
            ]
          },
          "metadata": {},
          "execution_count": 21
        }
      ]
    },
    {
      "cell_type": "code",
      "source": [
        "df = pd.pivot_table(data, index=['Year', 'Month', 'Segment', 'Region'], columns='KPI', values='Value', aggfunc='sum')\n",
        "df.head(12)"
      ],
      "metadata": {
        "colab": {
          "base_uri": "https://localhost:8080/",
          "height": 457
        },
        "id": "brSh_nl4PBDk",
        "outputId": "3df631f2-aaf1-43ae-c7a1-18963567e91b"
      },
      "execution_count": 22,
      "outputs": [
        {
          "output_type": "execute_result",
          "data": {
            "text/plain": [
              "KPI                              Lv1_Visitors  Lv2_Visitors  Lv3_Visitors  \\\n",
              "Year Month Segment   Region                                                 \n",
              "2020 1     Clients   India            3322789       2304318       2410633   \n",
              "           Customers Aurangabad          7540          4992          6850   \n",
              "                     Dehradun           28903         21332         25380   \n",
              "                     Faridabad          14750         12968         17720   \n",
              "                     India             424743        326618        371396   \n",
              "                     Uddepy            103882         75152        108349   \n",
              "                     Ujjain             25434         19891         25661   \n",
              "     2     Clients   India            2976450       2021915       2101659   \n",
              "           Customers Aurangabad          7092          4539          6080   \n",
              "                     Dehradun           24712         18163         21917   \n",
              "                     Faridabad          13964         12141         16720   \n",
              "                     India             461165        361914        437011   \n",
              "\n",
              "KPI                              Lv4_Visitors  Lv5_Visitors  \n",
              "Year Month Segment   Region                                  \n",
              "2020 1     Clients   India            1157186        363939  \n",
              "           Customers Aurangabad          2157           934  \n",
              "                     Dehradun            8578          3875  \n",
              "                     Faridabad           8025          2344  \n",
              "                     India             158246         42569  \n",
              "                     Uddepy             48209         15447  \n",
              "                     Ujjain              9881          3393  \n",
              "     2     Clients   India            1011351        318689  \n",
              "           Customers Aurangabad          1649           693  \n",
              "                     Dehradun            7312          3141  \n",
              "                     Faridabad           7564          2231  \n",
              "                     India             187240         45722  "
            ],
            "text/html": [
              "\n",
              "  <div id=\"df-45a153ef-d04f-486d-904f-2219d0062f4c\">\n",
              "    <div class=\"colab-df-container\">\n",
              "      <div>\n",
              "<style scoped>\n",
              "    .dataframe tbody tr th:only-of-type {\n",
              "        vertical-align: middle;\n",
              "    }\n",
              "\n",
              "    .dataframe tbody tr th {\n",
              "        vertical-align: top;\n",
              "    }\n",
              "\n",
              "    .dataframe thead th {\n",
              "        text-align: right;\n",
              "    }\n",
              "</style>\n",
              "<table border=\"1\" class=\"dataframe\">\n",
              "  <thead>\n",
              "    <tr style=\"text-align: right;\">\n",
              "      <th></th>\n",
              "      <th></th>\n",
              "      <th></th>\n",
              "      <th>KPI</th>\n",
              "      <th>Lv1_Visitors</th>\n",
              "      <th>Lv2_Visitors</th>\n",
              "      <th>Lv3_Visitors</th>\n",
              "      <th>Lv4_Visitors</th>\n",
              "      <th>Lv5_Visitors</th>\n",
              "    </tr>\n",
              "    <tr>\n",
              "      <th>Year</th>\n",
              "      <th>Month</th>\n",
              "      <th>Segment</th>\n",
              "      <th>Region</th>\n",
              "      <th></th>\n",
              "      <th></th>\n",
              "      <th></th>\n",
              "      <th></th>\n",
              "      <th></th>\n",
              "    </tr>\n",
              "  </thead>\n",
              "  <tbody>\n",
              "    <tr>\n",
              "      <th rowspan=\"12\" valign=\"top\">2020</th>\n",
              "      <th rowspan=\"7\" valign=\"top\">1</th>\n",
              "      <th>Clients</th>\n",
              "      <th>India</th>\n",
              "      <td>3322789</td>\n",
              "      <td>2304318</td>\n",
              "      <td>2410633</td>\n",
              "      <td>1157186</td>\n",
              "      <td>363939</td>\n",
              "    </tr>\n",
              "    <tr>\n",
              "      <th rowspan=\"6\" valign=\"top\">Customers</th>\n",
              "      <th>Aurangabad</th>\n",
              "      <td>7540</td>\n",
              "      <td>4992</td>\n",
              "      <td>6850</td>\n",
              "      <td>2157</td>\n",
              "      <td>934</td>\n",
              "    </tr>\n",
              "    <tr>\n",
              "      <th>Dehradun</th>\n",
              "      <td>28903</td>\n",
              "      <td>21332</td>\n",
              "      <td>25380</td>\n",
              "      <td>8578</td>\n",
              "      <td>3875</td>\n",
              "    </tr>\n",
              "    <tr>\n",
              "      <th>Faridabad</th>\n",
              "      <td>14750</td>\n",
              "      <td>12968</td>\n",
              "      <td>17720</td>\n",
              "      <td>8025</td>\n",
              "      <td>2344</td>\n",
              "    </tr>\n",
              "    <tr>\n",
              "      <th>India</th>\n",
              "      <td>424743</td>\n",
              "      <td>326618</td>\n",
              "      <td>371396</td>\n",
              "      <td>158246</td>\n",
              "      <td>42569</td>\n",
              "    </tr>\n",
              "    <tr>\n",
              "      <th>Uddepy</th>\n",
              "      <td>103882</td>\n",
              "      <td>75152</td>\n",
              "      <td>108349</td>\n",
              "      <td>48209</td>\n",
              "      <td>15447</td>\n",
              "    </tr>\n",
              "    <tr>\n",
              "      <th>Ujjain</th>\n",
              "      <td>25434</td>\n",
              "      <td>19891</td>\n",
              "      <td>25661</td>\n",
              "      <td>9881</td>\n",
              "      <td>3393</td>\n",
              "    </tr>\n",
              "    <tr>\n",
              "      <th rowspan=\"5\" valign=\"top\">2</th>\n",
              "      <th>Clients</th>\n",
              "      <th>India</th>\n",
              "      <td>2976450</td>\n",
              "      <td>2021915</td>\n",
              "      <td>2101659</td>\n",
              "      <td>1011351</td>\n",
              "      <td>318689</td>\n",
              "    </tr>\n",
              "    <tr>\n",
              "      <th rowspan=\"4\" valign=\"top\">Customers</th>\n",
              "      <th>Aurangabad</th>\n",
              "      <td>7092</td>\n",
              "      <td>4539</td>\n",
              "      <td>6080</td>\n",
              "      <td>1649</td>\n",
              "      <td>693</td>\n",
              "    </tr>\n",
              "    <tr>\n",
              "      <th>Dehradun</th>\n",
              "      <td>24712</td>\n",
              "      <td>18163</td>\n",
              "      <td>21917</td>\n",
              "      <td>7312</td>\n",
              "      <td>3141</td>\n",
              "    </tr>\n",
              "    <tr>\n",
              "      <th>Faridabad</th>\n",
              "      <td>13964</td>\n",
              "      <td>12141</td>\n",
              "      <td>16720</td>\n",
              "      <td>7564</td>\n",
              "      <td>2231</td>\n",
              "    </tr>\n",
              "    <tr>\n",
              "      <th>India</th>\n",
              "      <td>461165</td>\n",
              "      <td>361914</td>\n",
              "      <td>437011</td>\n",
              "      <td>187240</td>\n",
              "      <td>45722</td>\n",
              "    </tr>\n",
              "  </tbody>\n",
              "</table>\n",
              "</div>\n",
              "      <button class=\"colab-df-convert\" onclick=\"convertToInteractive('df-45a153ef-d04f-486d-904f-2219d0062f4c')\"\n",
              "              title=\"Convert this dataframe to an interactive table.\"\n",
              "              style=\"display:none;\">\n",
              "        \n",
              "  <svg xmlns=\"http://www.w3.org/2000/svg\" height=\"24px\"viewBox=\"0 0 24 24\"\n",
              "       width=\"24px\">\n",
              "    <path d=\"M0 0h24v24H0V0z\" fill=\"none\"/>\n",
              "    <path d=\"M18.56 5.44l.94 2.06.94-2.06 2.06-.94-2.06-.94-.94-2.06-.94 2.06-2.06.94zm-11 1L8.5 8.5l.94-2.06 2.06-.94-2.06-.94L8.5 2.5l-.94 2.06-2.06.94zm10 10l.94 2.06.94-2.06 2.06-.94-2.06-.94-.94-2.06-.94 2.06-2.06.94z\"/><path d=\"M17.41 7.96l-1.37-1.37c-.4-.4-.92-.59-1.43-.59-.52 0-1.04.2-1.43.59L10.3 9.45l-7.72 7.72c-.78.78-.78 2.05 0 2.83L4 21.41c.39.39.9.59 1.41.59.51 0 1.02-.2 1.41-.59l7.78-7.78 2.81-2.81c.8-.78.8-2.07 0-2.86zM5.41 20L4 18.59l7.72-7.72 1.47 1.35L5.41 20z\"/>\n",
              "  </svg>\n",
              "      </button>\n",
              "      \n",
              "  <style>\n",
              "    .colab-df-container {\n",
              "      display:flex;\n",
              "      flex-wrap:wrap;\n",
              "      gap: 12px;\n",
              "    }\n",
              "\n",
              "    .colab-df-convert {\n",
              "      background-color: #E8F0FE;\n",
              "      border: none;\n",
              "      border-radius: 50%;\n",
              "      cursor: pointer;\n",
              "      display: none;\n",
              "      fill: #1967D2;\n",
              "      height: 32px;\n",
              "      padding: 0 0 0 0;\n",
              "      width: 32px;\n",
              "    }\n",
              "\n",
              "    .colab-df-convert:hover {\n",
              "      background-color: #E2EBFA;\n",
              "      box-shadow: 0px 1px 2px rgba(60, 64, 67, 0.3), 0px 1px 3px 1px rgba(60, 64, 67, 0.15);\n",
              "      fill: #174EA6;\n",
              "    }\n",
              "\n",
              "    [theme=dark] .colab-df-convert {\n",
              "      background-color: #3B4455;\n",
              "      fill: #D2E3FC;\n",
              "    }\n",
              "\n",
              "    [theme=dark] .colab-df-convert:hover {\n",
              "      background-color: #434B5C;\n",
              "      box-shadow: 0px 1px 3px 1px rgba(0, 0, 0, 0.15);\n",
              "      filter: drop-shadow(0px 1px 2px rgba(0, 0, 0, 0.3));\n",
              "      fill: #FFFFFF;\n",
              "    }\n",
              "  </style>\n",
              "\n",
              "      <script>\n",
              "        const buttonEl =\n",
              "          document.querySelector('#df-45a153ef-d04f-486d-904f-2219d0062f4c button.colab-df-convert');\n",
              "        buttonEl.style.display =\n",
              "          google.colab.kernel.accessAllowed ? 'block' : 'none';\n",
              "\n",
              "        async function convertToInteractive(key) {\n",
              "          const element = document.querySelector('#df-45a153ef-d04f-486d-904f-2219d0062f4c');\n",
              "          const dataTable =\n",
              "            await google.colab.kernel.invokeFunction('convertToInteractive',\n",
              "                                                     [key], {});\n",
              "          if (!dataTable) return;\n",
              "\n",
              "          const docLinkHtml = 'Like what you see? Visit the ' +\n",
              "            '<a target=\"_blank\" href=https://colab.research.google.com/notebooks/data_table.ipynb>data table notebook</a>'\n",
              "            + ' to learn more about interactive tables.';\n",
              "          element.innerHTML = '';\n",
              "          dataTable['output_type'] = 'display_data';\n",
              "          await google.colab.output.renderOutput(dataTable, element);\n",
              "          const docLink = document.createElement('div');\n",
              "          docLink.innerHTML = docLinkHtml;\n",
              "          element.appendChild(docLink);\n",
              "        }\n",
              "      </script>\n",
              "    </div>\n",
              "  </div>\n",
              "  "
            ]
          },
          "metadata": {},
          "execution_count": 22
        }
      ]
    },
    {
      "cell_type": "code",
      "source": [
        "# group by Region and calculate the sum of visitors of all the years.\n",
        "grouped = df.groupby(['Region'])['Lv1_Visitors','Lv2_Visitors','Lv3_Visitors','Lv4_Visitors',\n",
        "                                 'Lv5_Visitors'].sum().sort_values(by=['Lv1_Visitors'])\n",
        "# print the resulting grouped data\n",
        "print(grouped)\n"
      ],
      "metadata": {
        "colab": {
          "base_uri": "https://localhost:8080/"
        },
        "id": "4lhQUZfgPFlb",
        "outputId": "02f00f2f-0534-4bb3-bf9d-4513d1b529ed"
      },
      "execution_count": 23,
      "outputs": [
        {
          "output_type": "stream",
          "name": "stdout",
          "text": [
            "KPI         Lv1_Visitors  Lv2_Visitors  Lv3_Visitors  Lv4_Visitors  \\\n",
            "Region                                                               \n",
            "Aurangabad        276969        189034        209448         76051   \n",
            "Faridabad        1070007        836005        850934        357927   \n",
            "Indore           1482479        872927        661969        361346   \n",
            "Ujjain           3137870       1938538       1712414        745804   \n",
            "Dehradun         4292320       2656966       2077290        885352   \n",
            "Uddepy          11900752       7425474       6741682       2717117   \n",
            "India          143432468      96614542      83846004      74445040   \n",
            "\n",
            "KPI         Lv5_Visitors  \n",
            "Region                    \n",
            "Aurangabad         30501  \n",
            "Faridabad         116170  \n",
            "Indore            165145  \n",
            "Ujjain            305652  \n",
            "Dehradun          403585  \n",
            "Uddepy           1029255  \n",
            "India           12127418  \n"
          ]
        }
      ]
    },
    {
      "cell_type": "markdown",
      "source": [
        "The reason could be many such as-\n",
        "1. They are not getting attracted by the site \n",
        "2. Good deals in other platforms\n",
        "3. Lack of Promotions \n",
        "4. Quality issue\n",
        "5. shipping and return policy\n",
        "\n",
        "how they can improve.\n",
        "1. first is to take small and timely survey from the existing customer which will help them to improve.\n",
        "2. Promoting the website in different platforms\n",
        "3. Giving good deal/offers around the year to bind the customers\n",
        "4. improving nthe time of delivery and quick response for any query.\n",
        "\n"
      ],
      "metadata": {
        "id": "66uIRJyBPRDY"
      }
    },
    {
      "cell_type": "markdown",
      "source": [
        "## Faridabad has highest growth year over year\n"
      ],
      "metadata": {
        "id": "QC4DaQnzPWWS"
      }
    },
    {
      "cell_type": "code",
      "source": [
        "# group by Region and calculate the sum of visitors of all the years.\n",
        "grouped_1 = df.groupby([\"Region\",'Year'])['Lv1_Visitors','Lv2_Visitors','Lv3_Visitors','Lv4_Visitors',\n",
        "                                 'Lv5_Visitors'].sum().sort_values(by=['Lv1_Visitors'])\n",
        "# print the resulting grouped data\n",
        "print(grouped_1)\n"
      ],
      "metadata": {
        "colab": {
          "base_uri": "https://localhost:8080/"
        },
        "id": "NTtU7zPgPW3k",
        "outputId": "082bdc5d-7604-4576-b4fa-f9b4a30aab22"
      },
      "execution_count": 26,
      "outputs": [
        {
          "output_type": "stream",
          "name": "stdout",
          "text": [
            "KPI              Lv1_Visitors  Lv2_Visitors  Lv3_Visitors  Lv4_Visitors  \\\n",
            "Region     Year                                                           \n",
            "Aurangabad 2022         82786         54252         39666         14656   \n",
            "           2020         92083         63071         88109         29622   \n",
            "           2021        102100         71711         81673         31773   \n",
            "Faridabad  2020        312711        275273        357617        166721   \n",
            "Ujjain     2021        335540        232055        220982         94301   \n",
            "Dehradun   2021        352787        250456        214565         78363   \n",
            "Faridabad  2021        359870        286148        306888        140728   \n",
            "Ujjain     2020        369639        285890        332701        136803   \n",
            "Faridabad  2022        397426        274584        186429         50478   \n",
            "Dehradun   2020        402599        295615        311845        111753   \n",
            "Uddepy     2021       1068843        772889        809171        365173   \n",
            "           2020       1299320        979208       1304744        597155   \n",
            "Indore     2022       1482479        872927        661969        361346   \n",
            "Ujjain     2022       2432691       1420593       1158731        514700   \n",
            "Dehradun   2022       3536934       2110895       1550880        695236   \n",
            "Uddepy     2022       9532589       5673377       4627767       1754789   \n",
            "India      2021      45298945      30293496      25418272      11387553   \n",
            "           2022      46130109      29477346      22361971       9803591   \n",
            "           2020      52003414      36843700      36065761      53253896   \n",
            "\n",
            "KPI              Lv5_Visitors  \n",
            "Region     Year                \n",
            "Aurangabad 2022          5088  \n",
            "           2020         12612  \n",
            "           2021         12801  \n",
            "Faridabad  2020         57959  \n",
            "Ujjain     2021         37148  \n",
            "Dehradun   2021         34827  \n",
            "Faridabad  2021         45724  \n",
            "Ujjain     2020         51954  \n",
            "Faridabad  2022         12487  \n",
            "Dehradun   2020         50258  \n",
            "Uddepy     2021        114830  \n",
            "           2020        195930  \n",
            "Indore     2022        165145  \n",
            "Ujjain     2022        216550  \n",
            "Dehradun   2022        318500  \n",
            "Uddepy     2022        718495  \n",
            "India      2021       3744335  \n",
            "           2022       3092548  \n",
            "           2020       5290535  \n"
          ]
        }
      ]
    },
    {
      "cell_type": "markdown",
      "source": [
        "## with no informtion about the data set it is quote difficult to find exact meaning of the different levels. But guessing it can be- \n",
        "\n",
        "\n",
        "## Level 1 - Person visiting  the program for the first time\n",
        "## level 2- person visting the program 2nd time\n",
        "## level 3- person enquiring the program\n",
        "## level 4- person joining the program\n",
        "## level 5- person completed the program\n"
      ],
      "metadata": {
        "id": "xNOSm2hRPfum"
      }
    },
    {
      "cell_type": "code",
      "source": [
        "# Create new feature\n",
        "df['L5/L1 Visitors'] = df['Lv5_Visitors'] / df['Lv1_Visitors']\n",
        "df['L4/L1 Visitors'] = df['Lv5_Visitors'] / df['Lv1_Visitors']\n",
        "df['L5/L4 Visitors'] = df['Lv5_Visitors'] / df['Lv1_Visitors']\n",
        "df['L3/L4 Visitors'] = df['Lv5_Visitors'] / df['Lv1_Visitors']\n",
        "df.head()"
      ],
      "metadata": {
        "colab": {
          "base_uri": "https://localhost:8080/",
          "height": 319
        },
        "id": "NDv4YaIrPh1M",
        "outputId": "3645251a-1b4f-494d-ac76-9d7ef8e3dbf7"
      },
      "execution_count": 28,
      "outputs": [
        {
          "output_type": "execute_result",
          "data": {
            "text/plain": [
              "KPI                              Lv1_Visitors  Lv2_Visitors  Lv3_Visitors  \\\n",
              "Year Month Segment   Region                                                 \n",
              "2020 1     Clients   India            3322789       2304318       2410633   \n",
              "           Customers Aurangabad          7540          4992          6850   \n",
              "                     Dehradun           28903         21332         25380   \n",
              "                     Faridabad          14750         12968         17720   \n",
              "                     India             424743        326618        371396   \n",
              "\n",
              "KPI                              Lv4_Visitors  Lv5_Visitors  L5/L1 Visitors  \\\n",
              "Year Month Segment   Region                                                   \n",
              "2020 1     Clients   India            1157186        363939        0.109528   \n",
              "           Customers Aurangabad          2157           934        0.123873   \n",
              "                     Dehradun            8578          3875        0.134069   \n",
              "                     Faridabad           8025          2344        0.158915   \n",
              "                     India             158246         42569        0.100223   \n",
              "\n",
              "KPI                              L4/L1 Visitors  L5/L4 Visitors  \\\n",
              "Year Month Segment   Region                                       \n",
              "2020 1     Clients   India             0.109528        0.109528   \n",
              "           Customers Aurangabad        0.123873        0.123873   \n",
              "                     Dehradun          0.134069        0.134069   \n",
              "                     Faridabad         0.158915        0.158915   \n",
              "                     India             0.100223        0.100223   \n",
              "\n",
              "KPI                              L3/L4 Visitors  \n",
              "Year Month Segment   Region                      \n",
              "2020 1     Clients   India             0.109528  \n",
              "           Customers Aurangabad        0.123873  \n",
              "                     Dehradun          0.134069  \n",
              "                     Faridabad         0.158915  \n",
              "                     India             0.100223  "
            ],
            "text/html": [
              "\n",
              "  <div id=\"df-ccc72cef-4a6a-4adb-a6b4-39e52f895ce5\">\n",
              "    <div class=\"colab-df-container\">\n",
              "      <div>\n",
              "<style scoped>\n",
              "    .dataframe tbody tr th:only-of-type {\n",
              "        vertical-align: middle;\n",
              "    }\n",
              "\n",
              "    .dataframe tbody tr th {\n",
              "        vertical-align: top;\n",
              "    }\n",
              "\n",
              "    .dataframe thead th {\n",
              "        text-align: right;\n",
              "    }\n",
              "</style>\n",
              "<table border=\"1\" class=\"dataframe\">\n",
              "  <thead>\n",
              "    <tr style=\"text-align: right;\">\n",
              "      <th></th>\n",
              "      <th></th>\n",
              "      <th></th>\n",
              "      <th>KPI</th>\n",
              "      <th>Lv1_Visitors</th>\n",
              "      <th>Lv2_Visitors</th>\n",
              "      <th>Lv3_Visitors</th>\n",
              "      <th>Lv4_Visitors</th>\n",
              "      <th>Lv5_Visitors</th>\n",
              "      <th>L5/L1 Visitors</th>\n",
              "      <th>L4/L1 Visitors</th>\n",
              "      <th>L5/L4 Visitors</th>\n",
              "      <th>L3/L4 Visitors</th>\n",
              "    </tr>\n",
              "    <tr>\n",
              "      <th>Year</th>\n",
              "      <th>Month</th>\n",
              "      <th>Segment</th>\n",
              "      <th>Region</th>\n",
              "      <th></th>\n",
              "      <th></th>\n",
              "      <th></th>\n",
              "      <th></th>\n",
              "      <th></th>\n",
              "      <th></th>\n",
              "      <th></th>\n",
              "      <th></th>\n",
              "      <th></th>\n",
              "    </tr>\n",
              "  </thead>\n",
              "  <tbody>\n",
              "    <tr>\n",
              "      <th rowspan=\"5\" valign=\"top\">2020</th>\n",
              "      <th rowspan=\"5\" valign=\"top\">1</th>\n",
              "      <th>Clients</th>\n",
              "      <th>India</th>\n",
              "      <td>3322789</td>\n",
              "      <td>2304318</td>\n",
              "      <td>2410633</td>\n",
              "      <td>1157186</td>\n",
              "      <td>363939</td>\n",
              "      <td>0.109528</td>\n",
              "      <td>0.109528</td>\n",
              "      <td>0.109528</td>\n",
              "      <td>0.109528</td>\n",
              "    </tr>\n",
              "    <tr>\n",
              "      <th rowspan=\"4\" valign=\"top\">Customers</th>\n",
              "      <th>Aurangabad</th>\n",
              "      <td>7540</td>\n",
              "      <td>4992</td>\n",
              "      <td>6850</td>\n",
              "      <td>2157</td>\n",
              "      <td>934</td>\n",
              "      <td>0.123873</td>\n",
              "      <td>0.123873</td>\n",
              "      <td>0.123873</td>\n",
              "      <td>0.123873</td>\n",
              "    </tr>\n",
              "    <tr>\n",
              "      <th>Dehradun</th>\n",
              "      <td>28903</td>\n",
              "      <td>21332</td>\n",
              "      <td>25380</td>\n",
              "      <td>8578</td>\n",
              "      <td>3875</td>\n",
              "      <td>0.134069</td>\n",
              "      <td>0.134069</td>\n",
              "      <td>0.134069</td>\n",
              "      <td>0.134069</td>\n",
              "    </tr>\n",
              "    <tr>\n",
              "      <th>Faridabad</th>\n",
              "      <td>14750</td>\n",
              "      <td>12968</td>\n",
              "      <td>17720</td>\n",
              "      <td>8025</td>\n",
              "      <td>2344</td>\n",
              "      <td>0.158915</td>\n",
              "      <td>0.158915</td>\n",
              "      <td>0.158915</td>\n",
              "      <td>0.158915</td>\n",
              "    </tr>\n",
              "    <tr>\n",
              "      <th>India</th>\n",
              "      <td>424743</td>\n",
              "      <td>326618</td>\n",
              "      <td>371396</td>\n",
              "      <td>158246</td>\n",
              "      <td>42569</td>\n",
              "      <td>0.100223</td>\n",
              "      <td>0.100223</td>\n",
              "      <td>0.100223</td>\n",
              "      <td>0.100223</td>\n",
              "    </tr>\n",
              "  </tbody>\n",
              "</table>\n",
              "</div>\n",
              "      <button class=\"colab-df-convert\" onclick=\"convertToInteractive('df-ccc72cef-4a6a-4adb-a6b4-39e52f895ce5')\"\n",
              "              title=\"Convert this dataframe to an interactive table.\"\n",
              "              style=\"display:none;\">\n",
              "        \n",
              "  <svg xmlns=\"http://www.w3.org/2000/svg\" height=\"24px\"viewBox=\"0 0 24 24\"\n",
              "       width=\"24px\">\n",
              "    <path d=\"M0 0h24v24H0V0z\" fill=\"none\"/>\n",
              "    <path d=\"M18.56 5.44l.94 2.06.94-2.06 2.06-.94-2.06-.94-.94-2.06-.94 2.06-2.06.94zm-11 1L8.5 8.5l.94-2.06 2.06-.94-2.06-.94L8.5 2.5l-.94 2.06-2.06.94zm10 10l.94 2.06.94-2.06 2.06-.94-2.06-.94-.94-2.06-.94 2.06-2.06.94z\"/><path d=\"M17.41 7.96l-1.37-1.37c-.4-.4-.92-.59-1.43-.59-.52 0-1.04.2-1.43.59L10.3 9.45l-7.72 7.72c-.78.78-.78 2.05 0 2.83L4 21.41c.39.39.9.59 1.41.59.51 0 1.02-.2 1.41-.59l7.78-7.78 2.81-2.81c.8-.78.8-2.07 0-2.86zM5.41 20L4 18.59l7.72-7.72 1.47 1.35L5.41 20z\"/>\n",
              "  </svg>\n",
              "      </button>\n",
              "      \n",
              "  <style>\n",
              "    .colab-df-container {\n",
              "      display:flex;\n",
              "      flex-wrap:wrap;\n",
              "      gap: 12px;\n",
              "    }\n",
              "\n",
              "    .colab-df-convert {\n",
              "      background-color: #E8F0FE;\n",
              "      border: none;\n",
              "      border-radius: 50%;\n",
              "      cursor: pointer;\n",
              "      display: none;\n",
              "      fill: #1967D2;\n",
              "      height: 32px;\n",
              "      padding: 0 0 0 0;\n",
              "      width: 32px;\n",
              "    }\n",
              "\n",
              "    .colab-df-convert:hover {\n",
              "      background-color: #E2EBFA;\n",
              "      box-shadow: 0px 1px 2px rgba(60, 64, 67, 0.3), 0px 1px 3px 1px rgba(60, 64, 67, 0.15);\n",
              "      fill: #174EA6;\n",
              "    }\n",
              "\n",
              "    [theme=dark] .colab-df-convert {\n",
              "      background-color: #3B4455;\n",
              "      fill: #D2E3FC;\n",
              "    }\n",
              "\n",
              "    [theme=dark] .colab-df-convert:hover {\n",
              "      background-color: #434B5C;\n",
              "      box-shadow: 0px 1px 3px 1px rgba(0, 0, 0, 0.15);\n",
              "      filter: drop-shadow(0px 1px 2px rgba(0, 0, 0, 0.3));\n",
              "      fill: #FFFFFF;\n",
              "    }\n",
              "  </style>\n",
              "\n",
              "      <script>\n",
              "        const buttonEl =\n",
              "          document.querySelector('#df-ccc72cef-4a6a-4adb-a6b4-39e52f895ce5 button.colab-df-convert');\n",
              "        buttonEl.style.display =\n",
              "          google.colab.kernel.accessAllowed ? 'block' : 'none';\n",
              "\n",
              "        async function convertToInteractive(key) {\n",
              "          const element = document.querySelector('#df-ccc72cef-4a6a-4adb-a6b4-39e52f895ce5');\n",
              "          const dataTable =\n",
              "            await google.colab.kernel.invokeFunction('convertToInteractive',\n",
              "                                                     [key], {});\n",
              "          if (!dataTable) return;\n",
              "\n",
              "          const docLinkHtml = 'Like what you see? Visit the ' +\n",
              "            '<a target=\"_blank\" href=https://colab.research.google.com/notebooks/data_table.ipynb>data table notebook</a>'\n",
              "            + ' to learn more about interactive tables.';\n",
              "          element.innerHTML = '';\n",
              "          dataTable['output_type'] = 'display_data';\n",
              "          await google.colab.output.renderOutput(dataTable, element);\n",
              "          const docLink = document.createElement('div');\n",
              "          docLink.innerHTML = docLinkHtml;\n",
              "          element.appendChild(docLink);\n",
              "        }\n",
              "      </script>\n",
              "    </div>\n",
              "  </div>\n",
              "  "
            ]
          },
          "metadata": {},
          "execution_count": 28
        }
      ]
    },
    {
      "cell_type": "markdown",
      "source": [
        "## Level 2:1 is quite good which mean the visitor find it engaging. \n",
        "## Level 4:3 and 5:4 has quite similar ratio . this means if the person come to level 4 it goes to level 5 too.\n",
        "## The ratio of visitors in level 5 to level 1 is very low . That means the conversion rate of visitor to customer is very low. we need to work on that."
      ],
      "metadata": {
        "id": "Dc2L3u5qP9U_"
      }
    },
    {
      "cell_type": "code",
      "source": [],
      "metadata": {
        "id": "wFvXfsTDP9-4"
      },
      "execution_count": null,
      "outputs": []
    }
  ]
}